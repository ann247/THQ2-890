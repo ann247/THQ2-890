{
 "cells": [
  {
   "cell_type": "markdown",
   "metadata": {},
   "source": [
    "Question 2:\n",
    "First, I created a csv file and imported it.\n",
    "The csv file on Github: https://github.com/ann247/THQ2-890/blob/master/THQ2data.csv"
   ]
  },
  {
   "cell_type": "code",
   "execution_count": 1,
   "metadata": {},
   "outputs": [
    {
     "data": {
      "text/html": [
       "<div>\n",
       "<style scoped>\n",
       "    .dataframe tbody tr th:only-of-type {\n",
       "        vertical-align: middle;\n",
       "    }\n",
       "\n",
       "    .dataframe tbody tr th {\n",
       "        vertical-align: top;\n",
       "    }\n",
       "\n",
       "    .dataframe thead th {\n",
       "        text-align: right;\n",
       "    }\n",
       "</style>\n",
       "<table border=\"1\" class=\"dataframe\">\n",
       "  <thead>\n",
       "    <tr style=\"text-align: right;\">\n",
       "      <th></th>\n",
       "      <th>Country</th>\n",
       "      <th>Output</th>\n",
       "      <th>Labour</th>\n",
       "      <th>Capital</th>\n",
       "    </tr>\n",
       "  </thead>\n",
       "  <tbody>\n",
       "    <tr>\n",
       "      <th>0</th>\n",
       "      <td>B</td>\n",
       "      <td>80</td>\n",
       "      <td>60</td>\n",
       "      <td>50</td>\n",
       "    </tr>\n",
       "    <tr>\n",
       "      <th>1</th>\n",
       "      <td>C</td>\n",
       "      <td>150</td>\n",
       "      <td>100</td>\n",
       "      <td>100</td>\n",
       "    </tr>\n",
       "    <tr>\n",
       "      <th>2</th>\n",
       "      <td>D</td>\n",
       "      <td>135</td>\n",
       "      <td>100</td>\n",
       "      <td>80</td>\n",
       "    </tr>\n",
       "    <tr>\n",
       "      <th>3</th>\n",
       "      <td>E</td>\n",
       "      <td>165</td>\n",
       "      <td>120</td>\n",
       "      <td>100</td>\n",
       "    </tr>\n",
       "    <tr>\n",
       "      <th>4</th>\n",
       "      <td>F</td>\n",
       "      <td>95</td>\n",
       "      <td>70</td>\n",
       "      <td>60</td>\n",
       "    </tr>\n",
       "    <tr>\n",
       "      <th>5</th>\n",
       "      <td>G</td>\n",
       "      <td>130</td>\n",
       "      <td>90</td>\n",
       "      <td>80</td>\n",
       "    </tr>\n",
       "    <tr>\n",
       "      <th>6</th>\n",
       "      <td>H</td>\n",
       "      <td>110</td>\n",
       "      <td>80</td>\n",
       "      <td>70</td>\n",
       "    </tr>\n",
       "  </tbody>\n",
       "</table>\n",
       "</div>"
      ],
      "text/plain": [
       "  Country  Output  Labour  Capital\n",
       "0       B      80      60       50\n",
       "1       C     150     100      100\n",
       "2       D     135     100       80\n",
       "3       E     165     120      100\n",
       "4       F      95      70       60\n",
       "5       G     130      90       80\n",
       "6       H     110      80       70"
      ]
     },
     "execution_count": 1,
     "metadata": {},
     "output_type": "execute_result"
    }
   ],
   "source": [
    "import pandas as pd\n",
    "data=pd.read_csv('/Users/quynh/Downloads/THQ2data.csv')\n",
    "data"
   ]
  },
  {
   "cell_type": "markdown",
   "metadata": {},
   "source": [
    "a. Calculate mean, variance, standard deviation and median values:"
   ]
  },
  {
   "cell_type": "code",
   "execution_count": 2,
   "metadata": {
    "scrolled": true
   },
   "outputs": [
    {
     "name": "stdout",
     "output_type": "stream",
     "text": [
      "123.57142857142857\n",
      "914.2857142857143\n",
      "30.237157840738178\n",
      "130.0\n"
     ]
    }
   ],
   "source": [
    "# Calculate for \"Output\" or Q\n",
    "print(data.Output.mean())\n",
    "print(data.Output.var())\n",
    "print(data.Output.std())\n",
    "print(data.Output.median())"
   ]
  },
  {
   "cell_type": "code",
   "execution_count": 3,
   "metadata": {
    "scrolled": true
   },
   "outputs": [
    {
     "name": "stdout",
     "output_type": "stream",
     "text": [
      "88.57142857142857\n",
      "414.2857142857143\n",
      "20.354009783964297\n",
      "90.0\n"
     ]
    }
   ],
   "source": [
    "# Calculate for \"Labour\" or L\n",
    "print(data.Labour.mean())\n",
    "print(data.Labour.var())\n",
    "print(data.Labour.std())\n",
    "print(data.Labour.median())"
   ]
  },
  {
   "cell_type": "code",
   "execution_count": 4,
   "metadata": {},
   "outputs": [
    {
     "name": "stdout",
     "output_type": "stream",
     "text": [
      "77.14285714285714\n",
      "357.14285714285717\n",
      "18.89822365046136\n",
      "80.0\n"
     ]
    }
   ],
   "source": [
    "# Calculate for \"Capital\" or K\n",
    "print(data.Capital.mean())\n",
    "print(data.Capital.var())\n",
    "print(data.Capital.std())\n",
    "print(data.Capital.median())"
   ]
  },
  {
   "cell_type": "markdown",
   "metadata": {},
   "source": [
    "b. Plot histograms of the two data series Q and L:"
   ]
  },
  {
   "cell_type": "code",
   "execution_count": 11,
   "metadata": {
    "scrolled": true
   },
   "outputs": [
    {
     "data": {
      "image/png": "[encoded data removed]",
      "text/plain": [
       "<Figure size 432x288 with 1 Axes>"
      ]
     },
     "metadata": {
      "needs_background": "light"
     },
     "output_type": "display_data"
    }
   ],
   "source": [
    "import numpy as np\n",
    "import matplotlib.pyplot as plt\n",
    "\n",
    "# data to plot\n",
    "n_groups = 7\n",
    "\n",
    "# create plot\n",
    "fig, ax = plt.subplots()\n",
    "index = np.arange(n_groups)\n",
    "bar_width = 0.35\n",
    "opacity = 0.8\n",
    "\n",
    "rects1 = plt.bar(index, data.Output, bar_width,\n",
    "alpha=opacity,\n",
    "color='Black',\n",
    "label='Output')\n",
    "\n",
    "rects2 = plt.bar(index + bar_width, data.Labour, bar_width,\n",
    "alpha=opacity,\n",
    "color='Pink',\n",
    "label='Labour')\n",
    "\n",
    "plt.xlabel('Countries')\n",
    "plt.ylabel('Figures')\n",
    "plt.title('Output(Q) vs Labour(L)')\n",
    "plt.xticks(index + bar_width, ('B','C','D','E','F','G','H'))\n",
    "plt.legend()\n",
    "plt.tight_layout()\n",
    "plt.show()"
   ]
  },
  {
   "cell_type": "markdown",
   "metadata": {},
   "source": [
    "c. Find and print the log values:"
   ]
  },
  {
   "cell_type": "code",
   "execution_count": 6,
   "metadata": {
    "scrolled": true
   },
   "outputs": [
    {
     "name": "stdout",
     "output_type": "stream",
     "text": [
      "0    4.382027\n",
      "1    5.010635\n",
      "2    4.905275\n",
      "3    5.105945\n",
      "4    4.553877\n",
      "5    4.867534\n",
      "6    4.700480\n",
      "Name: Output, dtype: float64\n"
     ]
    }
   ],
   "source": [
    "logQ=np.log(data.Output)  \n",
    "print(logQ)"
   ]
  },
  {
   "cell_type": "code",
   "execution_count": 7,
   "metadata": {},
   "outputs": [
    {
     "name": "stdout",
     "output_type": "stream",
     "text": [
      "0    4.094345\n",
      "1    4.605170\n",
      "2    4.605170\n",
      "3    4.787492\n",
      "4    4.248495\n",
      "5    4.499810\n",
      "6    4.382027\n",
      "Name: Labour, dtype: float64\n"
     ]
    }
   ],
   "source": [
    "logL=np.log(data.Labour)  \n",
    "print(logL)"
   ]
  },
  {
   "cell_type": "code",
   "execution_count": 8,
   "metadata": {
    "scrolled": true
   },
   "outputs": [
    {
     "name": "stdout",
     "output_type": "stream",
     "text": [
      "0    3.912023\n",
      "1    4.605170\n",
      "2    4.382027\n",
      "3    4.605170\n",
      "4    4.094345\n",
      "5    4.382027\n",
      "6    4.248495\n",
      "Name: Capital, dtype: float64\n"
     ]
    }
   ],
   "source": [
    "logK=np.log(data.Capital)  \n",
    "print(logK)"
   ]
  },
  {
   "cell_type": "markdown",
   "metadata": {},
   "source": [
    "d. Fit a multiple regression model to the data:"
   ]
  },
  {
   "cell_type": "code",
   "execution_count": 9,
   "metadata": {
    "scrolled": true
   },
   "outputs": [
    {
     "name": "stdout",
     "output_type": "stream",
     "text": [
      "                            OLS Regression Results                            \n",
      "==============================================================================\n",
      "Dep. Variable:                 Output   R-squared:                       0.998\n",
      "Model:                            OLS   Adj. R-squared:                  0.997\n",
      "Method:                 Least Squares   F-statistic:                     958.4\n",
      "Date:                Thu, 16 May 2019   Prob (F-statistic):           4.34e-06\n",
      "Time:                        20:03:03   Log-Likelihood:                 21.712\n",
      "No. Observations:                   7   AIC:                            -37.42\n",
      "Df Residuals:                       4   BIC:                            -37.59\n",
      "Df Model:                           2                                         \n",
      "Covariance Type:            nonrobust                                         \n",
      "==============================================================================\n",
      "                 coef    std err          t      P>|t|      [0.025      0.975]\n",
      "------------------------------------------------------------------------------\n",
      "Intercept      0.1462      0.114      1.282      0.269      -0.170       0.463\n",
      "Labour         0.5484      0.090      6.127      0.004       0.300       0.797\n",
      "Capital        0.5087      0.083      6.150      0.004       0.279       0.738\n",
      "==============================================================================\n",
      "Omnibus:                          nan   Durbin-Watson:                   2.801\n",
      "Prob(Omnibus):                    nan   Jarque-Bera (JB):                2.261\n",
      "Skew:                           1.352   Prob(JB):                        0.323\n",
      "Kurtosis:                       3.665   Cond. No.                         160.\n",
      "==============================================================================\n",
      "\n",
      "Warnings:\n",
      "[1] Standard Errors assume that the covariance matrix of the errors is correctly specified.\n"
     ]
    },
    {
     "name": "stderr",
     "output_type": "stream",
     "text": [
      "C:\\Users\\quynh\\Anaconda3\\lib\\site-packages\\statsmodels\\stats\\stattools.py:72: ValueWarning: omni_normtest is not valid with less than 8 observations; 7 samples were given.\n",
      "  \"samples were given.\" % int(n), ValueWarning)\n"
     ]
    }
   ],
   "source": [
    "from statsmodels.formula.api import ols\n",
    "data1=pd.DataFrame({'Output': logQ, 'Labour': logL, 'Capital': logK})\n",
    "# Fit the model\n",
    "model = ols('Output ~ Labour + Capital', data1).fit()\n",
    "print(model.summary())\n"
   ]
  },
  {
   "cell_type": "markdown",
   "metadata": {},
   "source": [
    "After fiitng the model, we have a new function: logQ= 0.1462 + 0.5484*LogL + 0.5087*LogK.\n",
    "From the result above, we can see that the coefs of y and z have the sum of approximately 1, the model is homogeneous of degree one. "
   ]
  },
  {
   "cell_type": "markdown",
   "metadata": {},
   "source": [
    "e. Plot the residuals associated with the model:"
   ]
  },
  {
   "cell_type": "code",
   "execution_count": 10,
   "metadata": {
    "scrolled": true
   },
   "outputs": [
    {
     "name": "stdout",
     "output_type": "stream",
     "text": [
      "Predicted values:  [4.38189049 5.01467364 4.90115138 5.11466379 4.55918539 4.84336878\n",
      " 4.71084044]\n"
     ]
    },
    {
     "data": {
      "image/png": "[encoded data removed]",
      "text/plain": [
       "<Figure size 576x432 with 1 Axes>"
      ]
     },
     "metadata": {
      "needs_background": "light"
     },
     "output_type": "display_data"
    }
   ],
   "source": [
    "print('Predicted values: ', model.predict())\n",
    "fig, ax = plt.subplots(figsize=(8,6))\n",
    "ax.plot(data1.Labour+ data1.Capital, data1.Output, 'o', label=\"data\")\n",
    "ax.plot(data1.Labour+ data1.Capital, model.fittedvalues, label=\"OLS\")\n",
    "ax.legend(loc='best');  "
   ]
  },
  {
   "cell_type": "markdown",
   "metadata": {},
   "source": [
    "f. From the summary (part d of the question), we can see that the adjusted R^2 of the model is 0.997"
   ]
  }
 ],
 "metadata": {
  "kernelspec": {
   "display_name": "Python 3",
   "language": "python",
   "name": "python3"
  },
  "language_info": {
   "codemirror_mode": {
    "name": "ipython",
    "version": 3
   },
   "file_extension": ".py",
   "mimetype": "text/x-python",
   "name": "python",
   "nbconvert_exporter": "python",
   "pygments_lexer": "ipython3",
   "version": "3.7.3"
  }
 },
 "nbformat": 4,
 "nbformat_minor": 2
}
